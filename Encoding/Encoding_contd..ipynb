{
 "cells": [
  {
   "cell_type": "markdown",
   "id": "cfb049ba-3817-46b2-9307-79f119a8e991",
   "metadata": {},
   "source": [
    "# OneHotEncoder"
   ]
  },
  {
   "cell_type": "code",
   "execution_count": 1,
   "id": "3c18bd63-0999-4a7c-9d07-c4d1dc0b9603",
   "metadata": {},
   "outputs": [],
   "source": [
    "import pandas as pd\n",
    "\n",
    "# Sample DataFrame\n",
    "df = pd.DataFrame({\n",
    "    'color': ['red', 'green', 'blue'],\n",
    "    'size': ['S', 'M', 'L']\n",
    "})"
   ]
  },
  {
   "cell_type": "code",
   "execution_count": 9,
   "id": "f4bd8adc-578b-4df3-9073-afd0e9237586",
   "metadata": {},
   "outputs": [
    {
     "name": "stdout",
     "output_type": "stream",
     "text": [
      "  (0, 2)\t1.0\n",
      "  (0, 5)\t1.0\n",
      "  (1, 1)\t1.0\n",
      "  (1, 4)\t1.0\n",
      "  (2, 0)\t1.0\n",
      "  (2, 3)\t1.0\n"
     ]
    },
    {
     "name": "stderr",
     "output_type": "stream",
     "text": [
      "C:\\Users\\noha.mohamed\\AppData\\Local\\anaconda3\\Lib\\site-packages\\sklearn\\preprocessing\\_encoders.py:868: FutureWarning: `sparse` was renamed to `sparse_output` in version 1.2 and will be removed in 1.4. `sparse_output` is ignored unless you leave `sparse` to its default value.\n",
      "  warnings.warn(\n"
     ]
    }
   ],
   "source": [
    "from sklearn.preprocessing import OneHotEncoder\n",
    "import pandas as pd\n",
    "\n",
    "# Sample DataFrame\n",
    "df = pd.DataFrame({\n",
    "    'color': ['red', 'green', 'blue'],\n",
    "    'size': ['S', 'M', 'L']\n",
    "})\n",
    "\n",
    "# Initialize OneHotEncoder with sparse output\n",
    "encoder = OneHotEncoder(sparse=True)\n",
    "encoded = encoder.fit_transform(df)\n",
    "\n",
    "print(encoded)  # This will print a sparse matrix representation\n"
   ]
  },
  {
   "cell_type": "markdown",
   "id": "3745dc31-24db-4aa5-9c34-c6f570d23b14",
   "metadata": {},
   "source": [
    "This output means:\n",
    "\n",
    "The element at row 0, column 0 is 1.0\n",
    "\n",
    "The element at row 0, column 3 is 1.0\n",
    "\n",
    "The element at row 1, column 1 is 1.0\n",
    "\n",
    "The element at row 1, column 4 is 1.0\n",
    "\n",
    "The element at row 2, column 2 is 1.0\n",
    "\n",
    "The element at row 2, column 5 is 1.0"
   ]
  },
  {
   "cell_type": "code",
   "execution_count": null,
   "id": "3e83761f-3c76-4068-89aa-7a3008e56f71",
   "metadata": {},
   "outputs": [],
   "source": [
    "To understand how these positions map to the original categories, we need to look at how OneHotEncoder encodes the data.\n",
    "\n",
    "Columns Created by OneHotEncoder\n",
    "OneHotEncoder creates new columns for each unique value in the categorical features. Here’s how it would look:\n",
    "\n",
    "Index\tcolor_red\tcolor_green\tcolor_blue\tsize_S\tsize_M\tsize_L\n",
    "0\t1\t0\t0\t1\t0\t0\n",
    "1\t0\t1\t0\t0\t1\t0\n",
    "2\t0\t0\t1\t0\t0\t1\n",
    "\n",
    "Row 0: ('red', 'S') maps to color_red and size_S.\n",
    "\n",
    "Row 1: ('green', 'M') maps to color_green and size_M.\n",
    "\n",
    "Row 2: ('blue', 'L') maps to color_blue and size_L."
   ]
  },
  {
   "cell_type": "code",
   "execution_count": 10,
   "id": "5e4b40d9-5595-453e-8d34-c7dfaecca223",
   "metadata": {},
   "outputs": [
    {
     "name": "stdout",
     "output_type": "stream",
     "text": [
      "[[0. 0. 1. 0. 0. 1.]\n",
      " [0. 1. 0. 0. 1. 0.]\n",
      " [1. 0. 0. 1. 0. 0.]]\n"
     ]
    }
   ],
   "source": [
    "# Convert sparse matrix to dense format\n",
    "dense_encoded = encoded.toarray()\n",
    "print(dense_encoded)"
   ]
  },
  {
   "cell_type": "markdown",
   "id": "60717661-9a71-4147-a945-2b0f4e959c6d",
   "metadata": {},
   "source": [
    "# pd.get_dummies"
   ]
  },
  {
   "cell_type": "code",
   "execution_count": 11,
   "id": "e136cd46-92c1-4711-99ef-27c7da371cf1",
   "metadata": {},
   "outputs": [
    {
     "name": "stdout",
     "output_type": "stream",
     "text": [
      "   color_blue  color_green  color_red  size_L  size_M  size_S\n",
      "0       False        False       True   False   False    True\n",
      "1       False         True      False   False    True   False\n",
      "2        True        False      False    True   False   False\n"
     ]
    }
   ],
   "source": [
    "import pandas as pd\n",
    "\n",
    "# Sample DataFrame\n",
    "df = pd.DataFrame({\n",
    "    'color': ['red', 'green', 'blue'],\n",
    "    'size': ['S', 'M', 'L']\n",
    "})\n",
    "\n",
    "# Use pd.get_dummies\n",
    "encoded_df = pd.get_dummies(df, drop_first=False)\n",
    "print(encoded_df)"
   ]
  },
  {
   "cell_type": "code",
   "execution_count": 13,
   "id": "c8dbe673-8f9d-49c4-b454-4574ff81f567",
   "metadata": {},
   "outputs": [
    {
     "name": "stdout",
     "output_type": "stream",
     "text": [
      "   color_blue  color_green  color_red  size_L  size_M  size_S\n",
      "0           0            0          1       0       0       1\n",
      "1           0            1          0       0       1       0\n",
      "2           1            0          0       1       0       0\n"
     ]
    }
   ],
   "source": [
    "import pandas as pd\n",
    "\n",
    "# Sample DataFrame\n",
    "df = pd.DataFrame({\n",
    "    'color': ['red', 'green', 'blue'],\n",
    "    'size': ['S', 'M', 'L']\n",
    "})\n",
    "\n",
    "# Use pd.get_dummies\n",
    "encoded_df = pd.get_dummies(df, drop_first=False).astype(int)\n",
    "print(encoded_df)\n"
   ]
  },
  {
   "cell_type": "markdown",
   "id": "012d94b1-e071-4380-9948-05c67559a331",
   "metadata": {},
   "source": [
    "pd.get_dummies creates a DataFrame with bool data type when it detects categorical columns that are not strings. To ensure it outputs integers (0s and 1s) instead of booleans, you can convert the data type after using pd.get_dummies."
   ]
  },
  {
   "cell_type": "code",
   "execution_count": null,
   "id": "cb7001c5-a86b-4551-8558-240e7d19a2c0",
   "metadata": {},
   "outputs": [],
   "source": []
  }
 ],
 "metadata": {
  "kernelspec": {
   "display_name": "Python 3 (ipykernel)",
   "language": "python",
   "name": "python3"
  },
  "language_info": {
   "codemirror_mode": {
    "name": "ipython",
    "version": 3
   },
   "file_extension": ".py",
   "mimetype": "text/x-python",
   "name": "python",
   "nbconvert_exporter": "python",
   "pygments_lexer": "ipython3",
   "version": "3.11.7"
  }
 },
 "nbformat": 4,
 "nbformat_minor": 5
}
